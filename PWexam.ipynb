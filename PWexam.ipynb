{
 "cells": [
  {
   "cell_type": "code",
   "execution_count": 9,
   "id": "6a9bb23f-38e8-4750-beb8-a1003e0e8d4a",
   "metadata": {},
   "outputs": [
    {
     "name": "stdout",
     "output_type": "stream",
     "text": [
      "Reversed string: olleh\n"
     ]
    }
   ],
   "source": [
    "#write a code to reverse a string\n",
    "def reverse_string(s):\n",
    "    return s[::-1]\n",
    "input_str = \"hello\"\n",
    "reversed_str = reverse_string(input_str)\n",
    "print(\"Reversed string:\", reversed_str)"
   ]
  },
  {
   "cell_type": "code",
   "execution_count": 11,
   "id": "ad732376-3f75-47cb-b990-325c095865a2",
   "metadata": {},
   "outputs": [
    {
     "name": "stdin",
     "output_type": "stream",
     "text": [
      "Enter a string:  shalool\n"
     ]
    },
    {
     "name": "stdout",
     "output_type": "stream",
     "text": [
      "Number of vowels: 3\n"
     ]
    }
   ],
   "source": [
    "#write a code to count the number of vowels in a string\n",
    "def count_vowels(s):\n",
    "    vowels = \"aeiouAEIOU\"\n",
    "    count = 0\n",
    "    for char in s:\n",
    "        if char in vowels:\n",
    "            count += 1\n",
    "    return count\n",
    "input_str = input(\"Enter a string: \")\n",
    "vowel_count = count_vowels(input_str)\n",
    "print(\"Number of vowels:\", vowel_count)"
   ]
  },
  {
   "cell_type": "code",
   "execution_count": 15,
   "id": "8c7182ed-7565-46b0-8712-29a52f4fb60b",
   "metadata": {},
   "outputs": [
    {
     "name": "stdin",
     "output_type": "stream",
     "text": [
      "Enter a string:  shaahs\n"
     ]
    },
    {
     "name": "stdout",
     "output_type": "stream",
     "text": [
      "The string is a palindrome.\n"
     ]
    }
   ],
   "source": [
    "#write a code to check wheather it is palindrome or not\n",
    "def is_palindrome(s):\n",
    "    cleaned = s.replace(\" \", \"\").lower()\n",
    "    return cleaned == cleaned[::-1]\n",
    "input_str = input(\"Enter a string: \")\n",
    "if is_palindrome(input_str):\n",
    "    print(\"The string is a palindrome.\")\n",
    "else:\n",
    "    print(\"The string is not a palindrome.\")"
   ]
  },
  {
   "cell_type": "code",
   "execution_count": 19,
   "id": "a1ff6df3-6f42-4d3f-b9e0-ee89f5ab99e0",
   "metadata": {},
   "outputs": [
    {
     "name": "stdin",
     "output_type": "stream",
     "text": [
      "Enter first string:  listen\n",
      "Enter second string:  silent\n"
     ]
    },
    {
     "name": "stdout",
     "output_type": "stream",
     "text": [
      "The strings are anagrams.\n"
     ]
    }
   ],
   "source": [
    "#Write a code to check if two given strings are anagrams of each other.\n",
    "def are_anagrams(str1, str2):\n",
    "    str1 = str1.replace(\" \", \"\").lower()\n",
    "    str2 = str2.replace(\" \", \"\").lower()\n",
    "        return sorted(str1) == sorted(str2)\n",
    "string1 = input(\"Enter first string: \")\n",
    "string2 = input(\"Enter second string: \")\n",
    "if are_anagrams(string1, string2):\n",
    "    print(\"The strings are anagrams.\")\n",
    "else:\n",
    "    print(\"The strings are not anagrams.\")"
   ]
  },
  {
   "cell_type": "code",
   "execution_count": 21,
   "id": "569e56c2-66a4-4296-aebf-bc8d7090148e",
   "metadata": {},
   "outputs": [
    {
     "name": "stdin",
     "output_type": "stream",
     "text": [
      "Enter the main string:  banana\n",
      "Enter the substring to find:  ana\n"
     ]
    },
    {
     "name": "stdout",
     "output_type": "stream",
     "text": [
      "Substring found at positions: [1, 3]\n"
     ]
    }
   ],
   "source": [
    "#Write a code to find all occurrences of a given substring within another string.\n",
    "def find_all_occurrences(main_str, sub_str):\n",
    "    positions = []\n",
    "    start = 0\n",
    "    while True:\n",
    "        pos = main_str.find(sub_str, start)\n",
    "        if pos == -1:\n",
    "            break\n",
    "        positions.append(pos)\n",
    "        start = pos + 1  # Move to next character after the current match\n",
    "    return positions\n",
    "main_string = input(\"Enter the main string: \")\n",
    "substring = input(\"Enter the substring to find: \")\n",
    "occurrences = find_all_occurrences(main_string, substring)\n",
    "if occurrences:\n",
    "    print(f\"Substring found at positions: {occurrences}\")\n",
    "else:\n",
    "    print(\"Substring not found.\")"
   ]
  },
  {
   "cell_type": "code",
   "execution_count": 31,
   "id": "1f078071-d39d-401f-9bed-d448ebc4936f",
   "metadata": {},
   "outputs": [
    {
     "name": "stdin",
     "output_type": "stream",
     "text": [
      "Enter a string to compress:  aab\n"
     ]
    },
    {
     "name": "stdout",
     "output_type": "stream",
     "text": [
      "Compressed string: a2b1\n"
     ]
    }
   ],
   "source": [
    "#Write a code to perform basic string compression using the counts of repeated characters.\n",
    "def compress_string(s):\n",
    "    if not s:\n",
    "        return \"\"\n",
    "    compressed = \"\"\n",
    "    count = 1\n",
    "    for i in range(1, len(s)):\n",
    "        if s[i] == s[i - 1]:\n",
    "            count += 1\n",
    "        else:\n",
    "            compressed += s[i - 1] + str(count)\n",
    "            count = 1\n",
    "            compressed += s[-1] + str(count)\n",
    "    return compressed\n",
    "input_str = input(\"Enter a string to compress: \")\n",
    "compressed_str = compress_string(input_str)\n",
    "print(\"Compressed string:\", compressed_str)"
   ]
  },
  {
   "cell_type": "code",
   "execution_count": 33,
   "id": "343db12e-6ceb-4398-bbda-ca40456dd17f",
   "metadata": {},
   "outputs": [
    {
     "name": "stdin",
     "output_type": "stream",
     "text": [
      "Enter a string:  python\n"
     ]
    },
    {
     "name": "stdout",
     "output_type": "stream",
     "text": [
      "The string has all unique characters.\n"
     ]
    }
   ],
   "source": [
    "#Write a code to determine if a string has all unique characters.\n",
    "def has_all_unique_characters(s):\n",
    "    seen = set()\n",
    "    for char in s:\n",
    "        if char in seen:\n",
    "            return False\n",
    "        seen.add(char)\n",
    "    return True\n",
    "input_str = input(\"Enter a string: \")\n",
    "if has_all_unique_characters(input_str):\n",
    "    print(\"The string has all unique characters.\")\n",
    "else:\n",
    "    print(\"The string does not have all unique characters.\")"
   ]
  },
  {
   "cell_type": "code",
   "execution_count": 37,
   "id": "ef586cba-580d-496e-b581-807597286213",
   "metadata": {},
   "outputs": [
    {
     "name": "stdin",
     "output_type": "stream",
     "text": [
      "Enter a string:  shalool\n",
      "Type 'U' to convert to UPPERCASE or 'L' to convert to lowercase:  U\n"
     ]
    },
    {
     "name": "stdout",
     "output_type": "stream",
     "text": [
      "Uppercase: SHALOOL\n"
     ]
    }
   ],
   "source": [
    "#Write a code to convert a given string to uppercase or lowercase.\n",
    "input_str = input(\"Enter a string: \")\n",
    "choice = input(\"Type 'U' to convert to UPPERCASE or 'L' to convert to lowercase: \")\n",
    "if choice.upper() == 'U':\n",
    "    print(\"Uppercase:\", input_str.upper())\n",
    "elif choice.upper() == 'L':\n",
    "    print(\"Lowercase:\", input_str.lower())\n",
    "else:\n",
    "    print(\"Invalid choice. Please enter 'U' or 'L'.\")"
   ]
  },
  {
   "cell_type": "code",
   "execution_count": 39,
   "id": "8055f2ac-a844-4a63-9dfd-e18fee5a7631",
   "metadata": {},
   "outputs": [
    {
     "name": "stdin",
     "output_type": "stream",
     "text": [
      "Enter a string:  hi hello iam shalool\n"
     ]
    },
    {
     "name": "stdout",
     "output_type": "stream",
     "text": [
      "Number of words in the string: 4\n"
     ]
    }
   ],
   "source": [
    "#Write a code to count the number of words in a string.\n",
    "def count_words(s):\n",
    "    words = s.split()\n",
    "    return len(words)\n",
    "input_str = input(\"Enter a string: \")\n",
    "word_count = count_words(input_str)\n",
    "print(\"Number of words in the string:\", word_count)"
   ]
  },
  {
   "cell_type": "code",
   "execution_count": 47,
   "id": "76a4a94b-c44b-456c-b90c-c45bed3561ce",
   "metadata": {},
   "outputs": [
    {
     "name": "stdout",
     "output_type": "stream",
     "text": [
      "ahamedshalool\n"
     ]
    }
   ],
   "source": [
    "#Write a code to concatenate two strings without using the + operator.\n",
    "string1='ahamed'\n",
    "string2='shalool'\n",
    "string= string1 + string2\n",
    "print(string)"
   ]
  },
  {
   "cell_type": "code",
   "execution_count": 49,
   "id": "dc8043f7-115a-427a-82fa-022a5262f9f9",
   "metadata": {},
   "outputs": [
    {
     "name": "stdin",
     "output_type": "stream",
     "text": [
      "Enter a list of elements separated by spaces:  iam ahamed shalool studying python\n",
      "Enter the element to remove:  ahamed\n"
     ]
    },
    {
     "name": "stdout",
     "output_type": "stream",
     "text": [
      "List after removing all occurrences of ahamed : ['iam', 'shalool', 'studying', 'python']\n"
     ]
    }
   ],
   "source": [
    "#Write a code to remove all occurrences of a specific element from a list.\n",
    "def remove_all_occurrences(lst, element):\n",
    "    return [x for x in lst if x != element]\n",
    "input_list = input(\"Enter a list of elements separated by spaces: \").split()\n",
    "element_to_remove = input(\"Enter the element to remove: \")\n",
    "result = remove_all_occurrences(input_list, element_to_remove)\n",
    "print(\"List after removing all occurrences of\", element_to_remove, \":\", result)"
   ]
  },
  {
   "cell_type": "code",
   "execution_count": 51,
   "id": "8ba779a0-53e9-4eb9-a532-c9759ab616c9",
   "metadata": {},
   "outputs": [
    {
     "name": "stdin",
     "output_type": "stream",
     "text": [
      "Enter integers separated by spaces:  10 20 30 40 50\n"
     ]
    },
    {
     "name": "stdout",
     "output_type": "stream",
     "text": [
      "Second largest number is: 40\n"
     ]
    }
   ],
   "source": [
    "#Implement a code to find the second largest number in a given list of integers.\n",
    "def find_second_largest(numbers):\n",
    "    unique_numbers = list(set(numbers))\n",
    "    if len(unique_numbers) < 2:\n",
    "        return \"Second largest does not exist.\"\n",
    "    unique_numbers.sort(reverse=True)\n",
    "    return unique_numbers[1]\n",
    "input_list = input(\"Enter integers separated by spaces: \")\n",
    "numbers = list(map(int, input_list.split()))\n",
    "result = find_second_largest(numbers)\n",
    "print(\"Second largest number is:\", result)"
   ]
  },
  {
   "cell_type": "code",
   "execution_count": 55,
   "id": "f2a1e0df-7a33-47dd-86e2-5c6ab0d57ecc",
   "metadata": {},
   "outputs": [
    {
     "name": "stdin",
     "output_type": "stream",
     "text": [
      "Enter list elements separated by spaces:  apple banana apple orange banana apple\n"
     ]
    },
    {
     "name": "stdout",
     "output_type": "stream",
     "text": [
      "Element counts: {'apple': 3, 'banana': 2, 'orange': 1}\n"
     ]
    }
   ],
   "source": [
    "#Create a code to count the occurrences of each element in a list and return a dictionary with elements as keys and their counts as values\n",
    "def count_occurrences(lst):\n",
    "    count_dict = {}\n",
    "    for item in lst:\n",
    "        if item in count_dict:\n",
    "            count_dict[item] += 1\n",
    "        else:\n",
    "            count_dict[item] = 1\n",
    "    return count_dict\n",
    "input_list = input(\"Enter list elements separated by spaces: \").split()\n",
    "result = count_occurrences(input_list)\n",
    "print(\"Element counts:\", result)"
   ]
  },
  {
   "cell_type": "code",
   "execution_count": 57,
   "id": "397ce11b-930a-450d-af92-20008405d479",
   "metadata": {},
   "outputs": [
    {
     "name": "stdin",
     "output_type": "stream",
     "text": [
      "Enter elements separated by spaces:  a b c d e\n"
     ]
    },
    {
     "name": "stdout",
     "output_type": "stream",
     "text": [
      "Reversed list: ['e', 'd', 'c', 'b', 'a']\n"
     ]
    }
   ],
   "source": [
    "#Write a code to reverse a list in-place without using any built- in reverse functions.\n",
    "def reverse_list_in_place(lst):\n",
    "    start = 0\n",
    "    end = len(lst) - 1\n",
    "    while start < end:\n",
    "        lst[start], lst[end] = lst[end], lst[start]\n",
    "        start += 1\n",
    "        end -= 1\n",
    "input_list = input(\"Enter elements separated by spaces: \").split()\n",
    "reverse_list_in_place(input_list)\n",
    "print(\"Reversed list:\", input_list)"
   ]
  },
  {
   "cell_type": "code",
   "execution_count": 59,
   "id": "37d4e95e-72ab-4af6-b47d-ff08cd2d6ef7",
   "metadata": {},
   "outputs": [
    {
     "name": "stdin",
     "output_type": "stream",
     "text": [
      "Enter elements separated by spaces:  apple banana apple orange banana\n"
     ]
    },
    {
     "name": "stdout",
     "output_type": "stream",
     "text": [
      "List after removing duplicates: ['apple', 'banana', 'orange']\n"
     ]
    }
   ],
   "source": [
    "#Implement a code to find and remove duplicates from a list while preserving the original order of elements.\n",
    "def remove_duplicates_preserve_order(lst):\n",
    "    seen = set()\n",
    "    result = []\n",
    "    for item in lst:\n",
    "        if item not in seen:\n",
    "            result.append(item)\n",
    "            seen.add(item)\n",
    "    return result\n",
    "input_list = input(\"Enter elements separated by spaces: \").split()\n",
    "unique_list = remove_duplicates_preserve_order(input_list)\n",
    "print(\"List after removing duplicates:\", unique_list)"
   ]
  },
  {
   "cell_type": "code",
   "execution_count": 61,
   "id": "c926da2e-91c0-4b2b-a2b7-0122529258ea",
   "metadata": {},
   "outputs": [
    {
     "name": "stdin",
     "output_type": "stream",
     "text": [
      "Enter numbers separated by spaces:  1 2 3 4 5\n"
     ]
    },
    {
     "name": "stdout",
     "output_type": "stream",
     "text": [
      "The list is sorted in ascending order.\n"
     ]
    }
   ],
   "source": [
    "#Create a code to check if a given list is sorted (either in ascending or descending order) or not\n",
    "def is_sorted(lst):\n",
    "    if lst == sorted(lst):  \n",
    "        return \"The list is sorted in ascending order.\"\n",
    "    elif lst == sorted(lst, reverse=True):  \n",
    "        return \"The list is sorted in descending order.\"\n",
    "    else:\n",
    "        return \"The list is not sorted.\"\n",
    "input_list = list(map(int, input(\"Enter numbers separated by spaces: \").split()))\n",
    "result = is_sorted(input_list)\n",
    "print(result)"
   ]
  },
  {
   "cell_type": "code",
   "execution_count": 63,
   "id": "8a19303c-9860-4a4f-af6b-cc9bd5e6c3df",
   "metadata": {},
   "outputs": [
    {
     "name": "stdin",
     "output_type": "stream",
     "text": [
      "Enter sorted list 1 (space-separated):  1 3 5 7\n",
      "Enter sorted list 2 (space-separated):  2 4 6 8\n"
     ]
    },
    {
     "name": "stdout",
     "output_type": "stream",
     "text": [
      "Merged Sorted List: [1, 2, 3, 4, 5, 6, 7, 8]\n"
     ]
    }
   ],
   "source": [
    "#Write a code to merge two sorted lists into a single sorted list.\n",
    "def merge_sorted_lists(list1, list2):\n",
    "    merged_list = []\n",
    "    i, j = 0, 0\n",
    "    while i < len(list1) and j < len(list2):\n",
    "        if list1[i] < list2[j]:\n",
    "            merged_list.append(list1[i])\n",
    "            i += 1\n",
    "        else:\n",
    "            merged_list.append(list2[j])\n",
    "            j += 1\n",
    "    merged_list.extend(list1[i:])\n",
    "    merged_list.extend(list2[j:])\n",
    "    return merged_list\n",
    "list1 = list(map(int, input(\"Enter sorted list 1 (space-separated): \").split()))\n",
    "list2 = list(map(int, input(\"Enter sorted list 2 (space-separated): \").split()))\n",
    "merged_list = merge_sorted_lists(list1, list2)\n",
    "print(\"Merged Sorted List:\", merged_list)"
   ]
  },
  {
   "cell_type": "code",
   "execution_count": 65,
   "id": "5f8fc4ea-8199-4948-91c0-6e1999db5b54",
   "metadata": {},
   "outputs": [
    {
     "name": "stdin",
     "output_type": "stream",
     "text": [
      "Enter elements of first list (space-separated):  1 2 3 4 5\n",
      "Enter elements of second list (space-separated):  4 5 6 7 8\n"
     ]
    },
    {
     "name": "stdout",
     "output_type": "stream",
     "text": [
      "Intersection of the two lists: [4, 5]\n"
     ]
    }
   ],
   "source": [
    "#Implement a code to find the intersection of two given lists.\n",
    "def find_intersection(list1, list2):\n",
    "    return list(set(list1) & set(list2))  # Using set intersection\n",
    "list1 = list(map(int, input(\"Enter elements of first list (space-separated): \").split()))\n",
    "list2 = list(map(int, input(\"Enter elements of second list (space-separated): \").split()))\n",
    "intersection = find_intersection(list1, list2)\n",
    "print(\"Intersection of the two lists:\", intersection)"
   ]
  },
  {
   "cell_type": "code",
   "execution_count": 67,
   "id": "18db933e-f562-455c-a1a3-8ffacf0f408c",
   "metadata": {},
   "outputs": [
    {
     "name": "stdin",
     "output_type": "stream",
     "text": [
      "Enter elements of first list (space-separated):  1 2 3 4 5\n",
      "Enter elements of second list (space-separated):  3 4 5 6\n"
     ]
    },
    {
     "name": "stdout",
     "output_type": "stream",
     "text": [
      "Union of the two lists (without duplicates): [1, 2, 3, 4, 5, 6]\n"
     ]
    }
   ],
   "source": [
    "#Create a code to find the union of two lists without duplicates.\n",
    "def find_union(list1, list2):\n",
    "    return list(set(list1) | set(list2))  # Using set union\n",
    "list1 = list(map(int, input(\"Enter elements of first list (space-separated): \").split()))\n",
    "list2 = list(map(int, input(\"Enter elements of second list (space-separated): \").split()))\n",
    "union_list = find_union(list1, list2)\n",
    "print(\"Union of the two lists (without duplicates):\", union_list)\n"
   ]
  },
  {
   "cell_type": "code",
   "execution_count": 69,
   "id": "c0600fab-ed2b-4402-8866-135e2b2e85c3",
   "metadata": {},
   "outputs": [
    {
     "name": "stdin",
     "output_type": "stream",
     "text": [
      "Enter list elements separated by spaces:  1 2 3 4 5 6 7 8 9\n"
     ]
    },
    {
     "name": "stdout",
     "output_type": "stream",
     "text": [
      "Shuffled list: ['6', '7', '9', '1', '3', '8', '2', '4', '5']\n"
     ]
    }
   ],
   "source": [
    "#Write a code to shuffle a given list randomly without using any built-in shuffle functions.\n",
    "import random\n",
    "def shuffle_list(lst):\n",
    "    n = len(lst)\n",
    "    for i in range(n - 1, 0, -1):\n",
    "        j = random.randint(0, i)  # Pick a random index from 0 to i\n",
    "        lst[i], lst[j] = lst[j], lst[i]  # Swap elements\n",
    "input_list = input(\"Enter list elements separated by spaces: \").split()\n",
    "shuffle_list(input_list)\n",
    "print(\"Shuffled list:\", input_list)"
   ]
  },
  {
   "cell_type": "code",
   "execution_count": 71,
   "id": "3af1620a-429a-4456-8f85-77ef9e43a8d6",
   "metadata": {},
   "outputs": [
    {
     "name": "stdin",
     "output_type": "stream",
     "text": [
      "Enter elements for the first tuple (separated by spaces):  apple banana orange\n",
      "Enter elements for the second tuple (separated by spaces):  banana grape apple\n"
     ]
    },
    {
     "name": "stdout",
     "output_type": "stream",
     "text": [
      "Common elements in both tuples: ('apple', 'banana')\n"
     ]
    }
   ],
   "source": [
    "#Write a code that takes two tuples as input and returns a new tuple containing elements that are common to both input tuples.\n",
    "def common_elements(tuple1, tuple2):\n",
    "    common_set = set(tuple1) & set(tuple2)\n",
    "    return tuple(common_set)\n",
    "input1 = input(\"Enter elements for the first tuple (separated by spaces): \").split()\n",
    "input2 = input(\"Enter elements for the second tuple (separated by spaces): \").split()\n",
    "tuple1 = tuple(input1)\n",
    "tuple2 = tuple(input2)\n",
    "result = common_elements(tuple1, tuple2)\n",
    "print(\"Common elements in both tuples:\", result)"
   ]
  },
  {
   "cell_type": "code",
   "execution_count": 73,
   "id": "59ebe421-0f3a-4e68-af26-38d192b8e8f1",
   "metadata": {},
   "outputs": [
    {
     "name": "stdin",
     "output_type": "stream",
     "text": [
      "Enter the first set of integers (comma-separated):  1,2,3,4,5\n",
      "Enter the second set of integers (comma-separated):  3,4,5,6,7\n"
     ]
    },
    {
     "name": "stdout",
     "output_type": "stream",
     "text": [
      "Intersection of the two sets: {3, 4, 5}\n"
     ]
    }
   ],
   "source": [
    "#Create a code that prompts the user to enter two sets of integers separated by commas. Then, print the intersection of these two sets\n",
    "def get_integer_set(prompt):\n",
    "    return set(map(int, input(prompt).split(',')))\n",
    "set1 = get_integer_set(\"Enter the first set of integers (comma-separated): \")\n",
    "set2 = get_integer_set(\"Enter the second set of integers (comma-separated): \")\n",
    "intersection = set1 & set2\n",
    "print(\"Intersection of the two sets:\", intersection)"
   ]
  },
  {
   "cell_type": "code",
   "execution_count": 75,
   "id": "9efcd638-5da9-4958-9d99-ddbad4410107",
   "metadata": {},
   "outputs": [
    {
     "name": "stdin",
     "output_type": "stream",
     "text": [
      "Enter elements of first tuple (space-separated):  a b c\n",
      "Enter elements of second tuple (space-separated):  1 2 3\n"
     ]
    },
    {
     "name": "stdout",
     "output_type": "stream",
     "text": [
      "Concatenated tuple: ('a', 'b', 'c', '1', '2', '3')\n"
     ]
    }
   ],
   "source": [
    "# Write a code to concatenate two tuples. The function should take two tuples as inputand return a new tuple containing elements from both input tuples.\n",
    "def concatenate_tuples(tuple1, tuple2):\n",
    "    return tuple1 + tuple2  # Concatenate using the + operator\n",
    "tuple1 = tuple(input(\"Enter elements of first tuple (space-separated): \").split())\n",
    "tuple2 = tuple(input(\"Enter elements of second tuple (space-separated): \").split())\n",
    "result = concatenate_tuples(tuple1, tuple2)\n",
    "print(\"Concatenated tuple:\", result)"
   ]
  },
  {
   "cell_type": "code",
   "execution_count": 1,
   "id": "f335b629-78e2-4b73-849b-8b27579cfbfd",
   "metadata": {},
   "outputs": [
    {
     "name": "stdin",
     "output_type": "stream",
     "text": [
      "Enter the elements of the first set, separated by commas:  apple, banana, cherry\n",
      "Enter the elements of the second set, separated by commas:   banana, mango\n"
     ]
    },
    {
     "name": "stdout",
     "output_type": "stream",
     "text": [
      "Elements in the first set but not in the second set:\n",
      "apple\n",
      "cherry\n"
     ]
    }
   ],
   "source": [
    "#Develop a code that prompts the user to input two sets of strings. Then, print the elements that are present in the first set but not in the second set.\n",
    "set1_input = input(\"Enter the elements of the first set, separated by commas: \")\n",
    "set2_input = input(\"Enter the elements of the second set, separated by commas: \")\n",
    "set1 = set(item.strip() for item in set1_input.split(','))\n",
    "set2 = set(item.strip() for item in set2_input.split(','))\n",
    "difference = set1 - set2\n",
    "print(\"Elements in the first set but not in the second set:\")\n",
    "for item in difference:\n",
    "    print(item)"
   ]
  },
  {
   "cell_type": "code",
   "execution_count": 5,
   "id": "8ef43a40-84a5-4d0f-9c86-5f5605f0e660",
   "metadata": {},
   "outputs": [
    {
     "name": "stdin",
     "output_type": "stream",
     "text": [
      "Enter elements of the tuple separated by commas:  a,b,c,d,e\n",
      "Enter the start index:  1\n",
      "Enter the end index:  4\n"
     ]
    },
    {
     "name": "stdout",
     "output_type": "stream",
     "text": [
      "Sliced tuple: ('b', 'c', 'd')\n"
     ]
    }
   ],
   "source": [
    "#Create a code that takes a tuple and two integers as input. The function should return a new tuple containing elements from the original tuple within the specified range of indices.\n",
    "def slice_tuple(original_tuple, start_index, end_index):\n",
    "        return original_tuple[start_index:end_index]\n",
    "input_tuple = input(\"Enter elements of the tuple separated by commas: \")\n",
    "start = int(input(\"Enter the start index: \"))\n",
    "end = int(input(\"Enter the end index: \"))\n",
    "tuple_elements = tuple(item.strip() for item in input_tuple.split(','))\n",
    "result = slice_tuple(tuple_elements, start, end)\n",
    "print(\"Sliced tuple:\", result)"
   ]
  },
  {
   "cell_type": "code",
   "execution_count": 7,
   "id": "d97c66ea-28cd-4eb5-8ba4-3b73a5b9afbd",
   "metadata": {},
   "outputs": [
    {
     "name": "stdin",
     "output_type": "stream",
     "text": [
      "Enter characters for the first set (no separators needed):  abc\n",
      "Enter characters for the second set (no separators needed):  cde\n"
     ]
    },
    {
     "name": "stdout",
     "output_type": "stream",
     "text": [
      "Union of the two sets of characters:\n",
      "{'d', 'e', 'b', 'a', 'c'}\n"
     ]
    }
   ],
   "source": [
    "#Write a code that prompts the user to input two sets of characters. Then, print the union of these two sets.\n",
    "set1_input = input(\"Enter characters for the first set (no separators needed): \")\n",
    "set2_input = input(\"Enter characters for the second set (no separators needed): \")\n",
    "set1 = set(set1_input)\n",
    "set2 = set(set2_input)\n",
    "union_set = set1 | set2  # or set1.union(set2)\n",
    "print(\"Union of the two sets of characters:\")\n",
    "print(union_set)"
   ]
  },
  {
   "cell_type": "code",
   "execution_count": 9,
   "id": "0967cb05-3ab5-42fa-9711-8886de3f7206",
   "metadata": {},
   "outputs": [
    {
     "name": "stdin",
     "output_type": "stream",
     "text": [
      "Enter integers separated by commas:  3,5,1,7,9,2\n"
     ]
    },
    {
     "name": "stdout",
     "output_type": "stream",
     "text": [
      "Minimum value: 1\n",
      "Maximum value: 9\n"
     ]
    }
   ],
   "source": [
    "# Develop a code that takes a tuple of integers as input. The function should return the maximum and minimum values from the tuple using tuple unpacking.\n",
    "def find_min_max(numbers):\n",
    "    min_val = min(numbers)\n",
    "    max_val = max(numbers)\n",
    "    return min_val, max_val  # This returns a tuple\n",
    "input_str = input(\"Enter integers separated by commas: \")\n",
    "input_tuple = tuple(int(num.strip()) for num in input_str.split(','))\n",
    "min_value, max_value = find_min_max(input_tuple)\n",
    "print(f\"Minimum value: {min_value}\")\n",
    "print(f\"Maximum value: {max_value}\")"
   ]
  },
  {
   "cell_type": "code",
   "execution_count": 11,
   "id": "860c94de-72bc-4ef6-ae06-5e35bf7c8ac8",
   "metadata": {},
   "outputs": [
    {
     "name": "stdout",
     "output_type": "stream",
     "text": [
      "Set 1: {1, 2, 3, 4, 5}\n",
      "Set 2: {4, 5, 6, 7, 8}\n",
      "Union: {1, 2, 3, 4, 5, 6, 7, 8}\n",
      "Intersection: {4, 5}\n",
      "Difference (Set1 - Set2): {1, 2, 3}\n"
     ]
    }
   ],
   "source": [
    "# Create a code that defines two sets of integers. Then, print the union, intersection, and difference of these two sets.\n",
    "set1 = {1, 2, 3, 4, 5}\n",
    "set2 = {4, 5, 6, 7, 8}\n",
    "union_result = set1 | set2  # or set1.union(set2)\n",
    "intersection_result = set1 & set2  # or set1.intersection(set2)\n",
    "difference_result = set1 - set2  # or set1.difference(set2)\n",
    "print(\"Set 1:\", set1)\n",
    "print(\"Set 2:\", set2)\n",
    "print(\"Union:\", union_result)\n",
    "print(\"Intersection:\", intersection_result)\n",
    "print(\"Difference (Set1 - Set2):\", difference_result)"
   ]
  },
  {
   "cell_type": "code",
   "execution_count": 13,
   "id": "e4a15171-52d2-47c8-b11c-f7a939877e9b",
   "metadata": {},
   "outputs": [
    {
     "name": "stdin",
     "output_type": "stream",
     "text": [
      "Enter elements of the tuple separated by commas:  apple, banana, apple, cherry\n",
      "Enter the element to count:  apple\n"
     ]
    },
    {
     "name": "stdout",
     "output_type": "stream",
     "text": [
      "The element 'apple' appears 2 time(s) in the tuple.\n"
     ]
    }
   ],
   "source": [
    "#Write a code that takes a tuple and an element as input. The function should return the count of occurrences of the given element in the tuple.\n",
    "def count_occurrences(tup, element):\n",
    "    return tup.count(element)\n",
    "tuple_input = input(\"Enter elements of the tuple separated by commas: \")\n",
    "element_input = input(\"Enter the element to count: \")\n",
    "tup = tuple(item.strip() for item in tuple_input.split(','))\n",
    "count = count_occurrences(tup, element_input.strip())\n",
    "print(f\"The element '{element_input}' appears {count} time(s) in the tuple.\")"
   ]
  },
  {
   "cell_type": "code",
   "execution_count": 15,
   "id": "5e45f109-14b4-4756-8551-b3403f3dd492",
   "metadata": {},
   "outputs": [
    {
     "name": "stdin",
     "output_type": "stream",
     "text": [
      "Enter elements of the first set, separated by commas:  apple, banana, cherry\n",
      "Enter elements of the second set, separated by commas:  banana, mango, pear\n"
     ]
    },
    {
     "name": "stdout",
     "output_type": "stream",
     "text": [
      "Symmetric difference of the two sets:\n",
      "{'mango', 'pear', 'apple', 'cherry'}\n"
     ]
    }
   ],
   "source": [
    "#Develop a code that prompts the user to input two sets of strings. Then, print the symmetric difference of these two sets.\n",
    "set1_input = input(\"Enter elements of the first set, separated by commas: \")\n",
    "set2_input = input(\"Enter elements of the second set, separated by commas: \")\n",
    "set1 = set(item.strip() for item in set1_input.split(','))\n",
    "set2 = set(item.strip() for item in set2_input.split(','))\n",
    "symmetric_diff = set1 ^ set2  # or set1.symmetric_difference(set2)\n",
    "print(\"Symmetric difference of the two sets:\")\n",
    "print(symmetric_diff)"
   ]
  },
  {
   "cell_type": "code",
   "execution_count": 17,
   "id": "07b0cd72-1c52-466b-af86-9e0978e324bc",
   "metadata": {},
   "outputs": [
    {
     "name": "stdin",
     "output_type": "stream",
     "text": [
      "Enter a list of words separated by commas:  apple, banana, apple, cherry, banana, banana\n"
     ]
    },
    {
     "name": "stdout",
     "output_type": "stream",
     "text": [
      "Word Frequencies:\n",
      "{'apple': 2, 'banana': 3, 'cherry': 1}\n"
     ]
    }
   ],
   "source": [
    "#Write a code that takes a list of words as input and returns a dictionary where the keys are unique words and the values are the frequencies of those words in the input list.\n",
    "def word_frequencies(word_list):\n",
    "    freq_dict = {}\n",
    "    for word in word_list:\n",
    "        word = word.strip()\n",
    "        freq_dict[word] = freq_dict.get(word, 0) + 1\n",
    "    return freq_dict\n",
    "input_str = input(\"Enter a list of words separated by commas: \")\n",
    "words = input_str.split(',')\n",
    "frequencies = word_frequencies(words)\n",
    "print(\"Word Frequencies:\")\n",
    "print(frequencies)"
   ]
  },
  {
   "cell_type": "code",
   "execution_count": 19,
   "id": "5b011708-e0a8-4ddf-9953-4c89a342995b",
   "metadata": {},
   "outputs": [
    {
     "name": "stdin",
     "output_type": "stream",
     "text": [
      "Enter key:value pairs for the first dictionary, separated by commas:  a:2, b:3, c:4\n",
      "Enter key:value pairs for the second dictionary, separated by commas:  b:5, c:1, d:7\n"
     ]
    },
    {
     "name": "stdout",
     "output_type": "stream",
     "text": [
      "Merged Dictionary:\n",
      "{'a': 2, 'b': 8, 'c': 5, 'd': 7}\n"
     ]
    }
   ],
   "source": [
    "#Write a code that takes two dictionaries as input and merges them into a single dictionary. If there are common keys, the values should be added together.\n",
    "def merge_dictionaries(dict1, dict2):\n",
    "    merged = dict1.copy()\n",
    "    for key, value in dict2.items():\n",
    "        if key in merged:\n",
    "            merged[key] += value\n",
    "        else:\n",
    "            merged[key] = value\n",
    "    return merged\n",
    "def get_dict_from_input(prompt):\n",
    "    input_str = input(prompt)\n",
    "    pairs = input_str.split(',')\n",
    "    result = {}\n",
    "    for pair in pairs:\n",
    "        key, value = pair.split(':')\n",
    "        result[key.strip()] = int(value.strip())\n",
    "    return result\n",
    "dict1 = get_dict_from_input(\"Enter key:value pairs for the first dictionary, separated by commas: \")\n",
    "dict2 = get_dict_from_input(\"Enter key:value pairs for the second dictionary, separated by commas: \")\n",
    "merged_dict = merge_dictionaries(dict1, dict2)\n",
    "print(\"Merged Dictionary:\")\n",
    "print(merged_dict)"
   ]
  },
  {
   "cell_type": "code",
   "execution_count": 21,
   "id": "96ec1f34-c474-4aea-a4a7-9e22a8e2eb88",
   "metadata": {},
   "outputs": [
    {
     "name": "stdin",
     "output_type": "stream",
     "text": [
      "Enter a list of keys separated by commas:  a, b, c\n"
     ]
    },
    {
     "name": "stdout",
     "output_type": "stream",
     "text": [
      "Result: 42\n"
     ]
    }
   ],
   "source": [
    "#Write a code to access a value in a nested dictionary. The function should take the dictionary and a list of keys as input, and return the corresponding value. If any of the keys do not exist in the dictionary, the function should return None.\n",
    "def get_nested_value(nested_dict, key_list):\n",
    "    current = nested_dict\n",
    "    for key in key_list:\n",
    "        if isinstance(current, dict) and key in current:\n",
    "            current = current[key]\n",
    "        else:\n",
    "            return None\n",
    "    return current\n",
    "example_dict = {\n",
    "    'a': {\n",
    "        'b': {\n",
    "            'c': 42\n",
    "        }\n",
    "    }\n",
    "}\n",
    "keys = input(\"Enter a list of keys separated by commas: \").split(',')\n",
    "keys = [key.strip() for key in keys]\n",
    "value = get_nested_value(example_dict, keys)\n",
    "print(\"Result:\", value)"
   ]
  },
  {
   "cell_type": "code",
   "execution_count": 23,
   "id": "bd57ddca-a93e-4e9e-a9be-3d123425a928",
   "metadata": {},
   "outputs": [
    {
     "name": "stdin",
     "output_type": "stream",
     "text": [
      "Enter key:value pairs separated by commas (e.g., a:3, b:1):  apple:2, banana:5, cherry:1\n",
      "Sort in ascending or descending order? (a/d):  a\n"
     ]
    },
    {
     "name": "stdout",
     "output_type": "stream",
     "text": [
      "Sorted Dictionary:\n",
      "{'cherry': 1, 'apple': 2, 'banana': 5}\n"
     ]
    }
   ],
   "source": [
    "#Write a code that takes a dictionary as input and returns a sorted version of it based on the values. You can choose whether to sort in ascending or descending order.\n",
    "def sort_dict_by_value(d, descending=False):\n",
    "    sorted_items = sorted(d.items(), key=lambda item: item[1], reverse=descending)\n",
    "    return dict(sorted_items)\n",
    "def get_dict_input():\n",
    "    input_str = input(\"Enter key:value pairs separated by commas (e.g., a:3, b:1): \")\n",
    "    pairs = input_str.split(',')\n",
    "    result = {}\n",
    "    for pair in pairs:\n",
    "        key, value = pair.split(':')\n",
    "        result[key.strip()] = int(value.strip())\n",
    "    return result\n",
    "user_dict = get_dict_input()\n",
    "order = input(\"Sort in ascending or descending order? (a/d): \").strip().lower()\n",
    "descending = order == 'd'\n",
    "sorted_dict = sort_dict_by_value(user_dict, descending=descending)\n",
    "print(\"Sorted Dictionary:\")\n",
    "print(sorted_dict)"
   ]
  },
  {
   "cell_type": "code",
   "execution_count": 27,
   "id": "780b1a75-f135-4f6f-858c-5553d0c384ad",
   "metadata": {},
   "outputs": [
    {
     "name": "stdin",
     "output_type": "stream",
     "text": [
      "Enter key:value pairs separated by commas (e.g., a:1, b:2, c:1):  a:1, b:2, c:1\n"
     ]
    },
    {
     "name": "stdout",
     "output_type": "stream",
     "text": [
      "Inverted Dictionary:\n",
      "{'1': ['a', 'c'], '2': ['b']}\n"
     ]
    }
   ],
   "source": [
    "#Write a code that inverts a dictionary, swapping keys and values. Ensure that the inverted dictionary correctly handles cases where multiple keys have the same value by storing the keys as a list in the inverted dictionary\n",
    "def invert_dictionary(d):\n",
    "    inverted = {}\n",
    "    for key, value in d.items():\n",
    "        if value in inverted:\n",
    "            inverted[value].append(key)\n",
    "        else:\n",
    "            inverted[value] = [key]\n",
    "    return inverted\n",
    "def get_dict_input():\n",
    "    input_str = input(\"Enter key:value pairs separated by commas (e.g., a:1, b:2, c:1): \")\n",
    "    pairs = input_str.split(',')\n",
    "    result = {}\n",
    "    for pair in pairs:\n",
    "        key, value = pair.split(':')\n",
    "        result[key.strip()] = value.strip()\n",
    "    return result\n",
    "user_dict = get_dict_input()\n",
    "inverted = invert_dictionary(user_dict)\n",
    "print(\"Inverted Dictionary:\")\n",
    "print(inverted)"
   ]
  },
  {
   "cell_type": "code",
   "execution_count": null,
   "id": "8c7544ac-755f-4cc6-8ee5-afb626af8b1d",
   "metadata": {},
   "outputs": [],
   "source": []
  }
 ],
 "metadata": {
  "kernelspec": {
   "display_name": "Python 3 (ipykernel)",
   "language": "python",
   "name": "python3"
  },
  "language_info": {
   "codemirror_mode": {
    "name": "ipython",
    "version": 3
   },
   "file_extension": ".py",
   "mimetype": "text/x-python",
   "name": "python",
   "nbconvert_exporter": "python",
   "pygments_lexer": "ipython3",
   "version": "3.12.4"
  }
 },
 "nbformat": 4,
 "nbformat_minor": 5
}
